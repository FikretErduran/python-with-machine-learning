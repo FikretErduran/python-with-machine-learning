{
  "nbformat": 4,
  "nbformat_minor": 0,
  "metadata": {
    "colab": {
      "provenance": [],
      "authorship_tag": "ABX9TyMdxiNxJ+mu26zl8UvnFMs2",
      "include_colab_link": true
    },
    "kernelspec": {
      "name": "python3",
      "display_name": "Python 3"
    },
    "language_info": {
      "name": "python"
    }
  },
  "cells": [
    {
      "cell_type": "markdown",
      "metadata": {
        "id": "view-in-github",
        "colab_type": "text"
      },
      "source": [
        "<a href=\"https://colab.research.google.com/github/FikretErduran/python-with-machine-learning/blob/main/python_MT.ipynb\" target=\"_parent\"><img src=\"https://colab.research.google.com/assets/colab-badge.svg\" alt=\"Open In Colab\"/></a>"
      ]
    },
    {
      "cell_type": "code",
      "execution_count": 4,
      "metadata": {
        "colab": {
          "base_uri": "https://localhost:8080/"
        },
        "id": "Q6j6-bQAbmqj",
        "outputId": "7fb13b0c-8f5a-4641-cb70-78c597b7c81d"
      },
      "outputs": [
        {
          "output_type": "stream",
          "name": "stdout",
          "text": [
            "   ulke  boy  kilo  yas cinsiyet\n",
            "0    tr  130    30   10        e\n",
            "1    tr  125    36   11        e\n",
            "2    tr  135    34   10        k\n",
            "3    tr  133    30    9        k\n",
            "4    tr  129    38   12        e\n",
            "5    tr  180    90   30        e\n",
            "6    tr  190    80   25        e\n",
            "7    tr  175    90   35        e\n",
            "8    tr  177    60   22        k\n",
            "9    us  185   105   33        e\n",
            "10   us  165    55   27        k\n",
            "11   us  155    50   44        k\n",
            "12   us  160    58   39        k\n",
            "13   us  162    59   41        k\n",
            "14   us  167    62   55        k\n",
            "15   fr  174    70   47        e\n",
            "16   fr  193    90   23        e\n",
            "17   fr  187    80   27        e\n",
            "18   fr  183    88   28        e\n",
            "19   fr  159    40   29        k\n",
            "20   fr  164    66   32        k\n",
            "21   fr  166    56   42        k\n",
            "   ulke  boy\n",
            "0    tr  130\n",
            "1    tr  125\n",
            "2    tr  135\n",
            "3    tr  133\n",
            "4    tr  129\n",
            "5    tr  180\n",
            "6    tr  190\n",
            "7    tr  175\n",
            "8    tr  177\n",
            "9    us  185\n",
            "10   us  165\n",
            "11   us  155\n",
            "12   us  160\n",
            "13   us  162\n",
            "14   us  167\n",
            "15   fr  174\n",
            "16   fr  193\n",
            "17   fr  187\n",
            "18   fr  183\n",
            "19   fr  159\n",
            "20   fr  164\n",
            "21   fr  166\n",
            "    kilo  yas cinsiyet\n",
            "0     30   10        e\n",
            "1     36   11        e\n",
            "2     34   10        k\n",
            "3     30    9        k\n",
            "4     38   12        e\n",
            "5     90   30        e\n",
            "6     80   25        e\n",
            "7     90   35        e\n",
            "8     60   22        k\n",
            "9    105   33        e\n",
            "10    55   27        k\n",
            "11    50   44        k\n",
            "12    58   39        k\n",
            "13    59   41        k\n",
            "14    62   55        k\n",
            "15    70   47        e\n",
            "16    90   23        e\n",
            "17    80   27        e\n",
            "18    88   28        e\n",
            "19    40   29        k\n",
            "20    66   32        k\n",
            "21    56   42        k\n",
            "180\n",
            "130\n"
          ]
        }
      ],
      "source": [
        "import pandas as pd\n",
        "import numpy as np\n",
        "import matplotlib.pyplot as plt\n",
        "\n",
        "veri=pd.read_csv('data1.txt')\n",
        "print(veri)\n",
        "\n",
        "ulkeboy=veri[['ulke','boy']]\n",
        "print(ulkeboy)\n",
        "\n",
        "kiloYas=veri[['kilo','yas','cinsiyet']]\n",
        "print(kiloYas)\n",
        "\n",
        "\n",
        "class insan:\n",
        "  boy=180\n",
        "  def kosmak(self,b):\n",
        "    return b+10\n",
        "\n",
        "nihan=insan()\n",
        "print(nihan.boy)\n",
        "print(nihan.kosmak(120))"
      ]
    }
  ]
}